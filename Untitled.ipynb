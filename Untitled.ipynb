{
 "cells": [
  {
   "cell_type": "markdown",
   "id": "0ebcf7ec-5a26-4b1a-8de3-7f5d24dac2fd",
   "metadata": {},
   "source": [
    "Opuść nawias"
   ]
  },
  {
   "cell_type": "markdown",
   "id": "bb4a7c67-00d6-4de1-8bb0-c49b1b614015",
   "metadata": {},
   "source": [
    "1. 5(a+b+c+d)"
   ]
  },
  {
   "cell_type": "markdown",
   "id": "9fb37637-6941-4ea3-9466-cc29b599f470",
   "metadata": {},
   "source": [
    "2. -(a-b+c+d-e)"
   ]
  },
  {
   "cell_type": "markdown",
   "id": "7dce2b51-b96e-453f-bdf8-6c9a8872791b",
   "metadata": {},
   "source": [
    "3. a(x+y+z)"
   ]
  },
  {
   "cell_type": "markdown",
   "id": "3e56b58e-dd86-42ff-a57f-1015927bd456",
   "metadata": {},
   "source": [
    "4. z-(a+b-c)"
   ]
  },
  {
   "cell_type": "markdown",
   "id": "7541769e-bb18-46b8-9d55-ba58ef415233",
   "metadata": {},
   "source": [
    "5. (a+b)(c+d)"
   ]
  },
  {
   "cell_type": "markdown",
   "id": "f8ca7dd7-99f4-46e2-9dc3-ef3680b575f2",
   "metadata": {},
   "source": [
    "Jak wymnażamy nawiasy. Rysujemy strzałki od dwójki i potem rysujemy strzałki od trójki."
   ]
  },
  {
   "cell_type": "markdown",
   "id": "f6d872ce-92a6-4cc6-aa25-edb79b2903ab",
   "metadata": {},
   "source": [
    "(2+3)(5+6) = 2 razy 5 + 2 razy 6    +   3 razy 5  + 3 razy 6 "
   ]
  }
 ],
 "metadata": {
  "kernelspec": {
   "display_name": "Python 3 (ipykernel)",
   "language": "python",
   "name": "python3"
  },
  "language_info": {
   "codemirror_mode": {
    "name": "ipython",
    "version": 3
   },
   "file_extension": ".py",
   "mimetype": "text/x-python",
   "name": "python",
   "nbconvert_exporter": "python",
   "pygments_lexer": "ipython3",
   "version": "3.12.1"
  }
 },
 "nbformat": 4,
 "nbformat_minor": 5
}

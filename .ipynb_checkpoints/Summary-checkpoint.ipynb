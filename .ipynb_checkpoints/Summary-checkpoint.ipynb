{
 "cells": [
  {
   "cell_type": "code",
   "execution_count": 1,
   "id": "f12ac682-053a-4a5e-9657-3fad9fc7718d",
   "metadata": {},
   "outputs": [],
   "source": [
    "import sqlite3\n",
    "import matplotlib.pyplot as plt\n"
   ]
  },
  {
   "cell_type": "markdown",
   "id": "f70be133-eac0-40b4-aa5c-20c3b9f0d65b",
   "metadata": {},
   "source": [
    "## Wgląd w bazę danych Lichess_Puzzle"
   ]
  },
  {
   "cell_type": "code",
   "execution_count": 11,
   "id": "0a91ce70-2a17-40cb-ac2e-cef45df315bd",
   "metadata": {},
   "outputs": [
    {
     "name": "stdout",
     "output_type": "stream",
     "text": [
      "Tabele w bazie danych:\n",
      "puzzles\n"
     ]
    }
   ],
   "source": [
    "conn = sqlite3.connect(\"Lichess_Puzzle.db\")\n",
    "cursor = conn.cursor()\n",
    "\n",
    "# Zapytanie o wszystkie tabele w bazie danych\n",
    "cursor.execute(\"SELECT name FROM sqlite_master WHERE type='table';\")\n",
    "tables = cursor.fetchall()\n",
    "\n",
    "# Wyświetlenie nazw tabel\n",
    "print(\"Tabele w bazie danych:\")\n",
    "for table in tables:\n",
    "    print(table[0])\n",
    "conn.close()\n",
    "\n"
   ]
  },
  {
   "cell_type": "code",
   "execution_count": 8,
   "id": "8e988ebd-6bed-44fd-9f4e-b45378c0f67e",
   "metadata": {},
   "outputs": [
    {
     "name": "stdout",
     "output_type": "stream",
     "text": [
      "Kolumny w tabeli puzzles:\n",
      "(0, 'PuzzleId', 'TEXT', 0, None, 1)\n",
      "(1, 'FEN', 'TEXT', 0, None, 0)\n",
      "(2, 'Moves', 'TEXT', 0, None, 0)\n",
      "(3, 'Rating', 'INTEGER', 0, None, 0)\n",
      "(4, 'RatingDeviation', 'INTEGER', 0, None, 0)\n",
      "(5, 'Popularity', 'INTEGER', 0, None, 0)\n",
      "(6, 'NbPlays', 'INTEGER', 0, None, 0)\n",
      "(7, 'Themes', 'TEXT', 0, None, 0)\n",
      "(8, 'GameUrl', 'TEXT', 0, None, 0)\n",
      "(9, 'OpeningTags', 'TEXT', 0, None, 0)\n"
     ]
    }
   ],
   "source": [
    "conn = sqlite3.connect(\"Lichess_Puzzle.db\")\n",
    "cursor = conn.cursor()\n",
    "\n",
    "table_name = 'puzzles'  # Wpisz nazwę tabeli\n",
    "cursor.execute(f\"PRAGMA table_info({table_name});\")\n",
    "columns = cursor.fetchall()\n",
    "\n",
    "#Wyświetlenie kolumn tabeli\n",
    "print(f\"Kolumny w tabeli {table_name}:\"\n",
    "for column in columns:\n",
    "    print(column)\n",
    "conn.close()\n"
   ]
  },
  {
   "cell_type": "code",
   "execution_count": 20,
   "id": "ae341c7c-0523-4e26-a1c7-daf5cee45582",
   "metadata": {},
   "outputs": [
    {
     "data": {
      "image/png": "[encoded data removed]",
      "text/plain": [
       "<Figure size 640x480 with 1 Axes>"
      ]
     },
     "metadata": {},
     "output_type": "display_data"
    }
   ],
   "source": [
    "# Połączenie z bazą danych\n",
    "conn = sqlite3.connect(\"Lichess_Puzzle.db\")\n",
    "cursor = conn.cursor()\n",
    "\n",
    "# Pobranie danych z kolumny Rating\n",
    "cursor.execute(\"SELECT Rating FROM puzzles;\")\n",
    "ratings = [row[0] for row in cursor.fetchall()]\n",
    "\n",
    "# Zamknięcie połączenia\n",
    "conn.close()\n",
    "\n",
    "# Stworzenie histogramu\n",
    "plt.hist(ratings, bins=50, edgecolor='black', alpha=0.7)\n",
    "plt.title(\"Rozkład Ratingów w tabeli 'puzzles'\")\n",
    "plt.xlabel(\"Rating\")\n",
    "plt.ylabel(\"Liczba puzzli\")\n",
    "plt.show()\n"
   ]
  },
  {
   "cell_type": "code",
   "execution_count": null,
   "id": "2869c3b7-610a-4790-8c04-55dca04c47eb",
   "metadata": {},
   "outputs": [],
   "source": []
  },
  {
   "cell_type": "markdown",
   "id": "0ec808ec-9e47-4828-b386-ed8501d9167f",
   "metadata": {},
   "source": [
    "## Wgląd w bazę danych User_Puzzle"
   ]
  },
  {
   "cell_type": "code",
   "execution_count": 2,
   "id": "c513f47c-7ea9-444f-a33a-a32adbfe1f34",
   "metadata": {},
   "outputs": [
    {
     "name": "stdout",
     "output_type": "stream",
     "text": [
      "Tabele w bazie danych:\n",
      "sqlite_sequence\n",
      "user_puzzles\n",
      "users\n"
     ]
    }
   ],
   "source": [
    "conn = sqlite3.connect(\"User_Puzzle.db\")\n",
    "cursor = conn.cursor()\n",
    "\n",
    "# Zapytanie o wszystkie tabele w bazie danych\n",
    "cursor.execute(\"SELECT name FROM sqlite_master WHERE type='table';\")\n",
    "tables = cursor.fetchall()\n",
    "\n",
    "# Wyświetlenie nazw tabel\n",
    "print(\"Tabele w bazie danych:\")\n",
    "for table in tables:\n",
    "    print(table[0])\n",
    "conn.close()\n",
    "\n"
   ]
  },
  {
   "cell_type": "code",
   "execution_count": 17,
   "id": "eeceff40-47b2-44b2-a66f-5e7b668714fe",
   "metadata": {},
   "outputs": [],
   "source": []
  },
  {
   "cell_type": "code",
   "execution_count": 16,
   "id": "41d19022-ae33-41d9-a460-3828f495196f",
   "metadata": {},
   "outputs": [
    {
     "name": "stdout",
     "output_type": "stream",
     "text": [
      "Kolumny w tabeli sqlite_sequence:\n"
     ]
    }
   ],
   "source": [
    "conn = sqlite3.connect(\"Lichess_Puzzle.db\")\n",
    "cursor = conn.cursor()\n",
    "\n",
    "table_name = 'sqlite_sequence'  # Wpisz nazwę tabeli\n",
    "cursor.execute(f\"PRAGMA table_info({table_name});\")\n",
    "columns = cursor.fetchall()\n",
    "\n",
    "#Wyświetlenie kolumn tabeli\n",
    "print(f\"Kolumny w tabeli {table_name}:\")\n",
    "for column in columns:\n",
    "    print(column)\n",
    "conn.close()\n"
   ]
  },
  {
   "cell_type": "code",
   "execution_count": 4,
   "id": "fd92f5a9-0756-45bc-98c8-396cab4e198e",
   "metadata": {},
   "outputs": [
    {
     "name": "stdout",
     "output_type": "stream",
     "text": [
      "(1, 'JfPrr', '2025-01-16T16:34:09.680Z', 47.565, 0, 0, 100, 98, -2)\n",
      "(2, 'SBxsl', '2025-01-16T16:35:00.131Z', 34.004, 1, 2, 100, 132, 32)\n",
      "(3, 'nSf00', '2025-01-16T16:40:12.863Z', 22.213, 1, 2, 100, 131, 31)\n",
      "(4, 'TZKaU', '2025-01-16T16:41:17.896Z', 54.818, 0, 0, 131, 128, -3)\n"
     ]
    }
   ],
   "source": [
    "import sqlite3\n",
    "\n",
    "# Połączenie (lub utworzenie) bazy danych\n",
    "conn = sqlite3.connect(\"User_Puzzle.db\")\n",
    "cursor = conn.cursor()\n",
    "\n",
    "cursor.execute(\"\"\"SELECT * FROM user_puzzles\"\"\")\n",
    "puzzles = cursor.fetchall()  # Pobiera wszystkie wyniki zapytania\n",
    "\n",
    "for puzzle in puzzles:\n",
    "    print(puzzle)\n",
    "\n",
    "conn.commit()\n",
    "conn.close()"
   ]
  },
  {
   "cell_type": "code",
   "execution_count": null,
   "id": "ef1506c0-48dc-4154-9840-e8819fb23380",
   "metadata": {},
   "outputs": [],
   "source": []
  },
  {
   "cell_type": "code",
   "execution_count": null,
   "id": "2d28d0a4-67ec-46d1-acd4-453c6f081d4e",
   "metadata": {},
   "outputs": [],
   "source": [
    "# Stworzenie nowej tabeli user_pruzzles\n",
    "# W tym przykładzie klucz główny to autoincrement (ID).\n",
    "# Dzięki temu możemy mieć wiele wpisów dla tego samego PuzzleId.\n",
    "#cursor.execute(\"\"\"SELECT * FROM puzzles WHERE PuzzleId = 'WqKQ0' \"\"\")\n",
    "#puzzles = cursor.fetchall()  # Pobiera wszystkie wyniki zapytania\n",
    "\n",
    "#for puzzle in puzzles:\n",
    "#    print(puzzle)\n",
    "\n",
    "#conn.commit()\n",
    "#conn.close()"
   ]
  }
 ],
 "metadata": {
  "kernelspec": {
   "display_name": "Python 3 (ipykernel)",
   "language": "python",
   "name": "python3"
  },
  "language_info": {
   "codemirror_mode": {
    "name": "ipython",
    "version": 3
   },
   "file_extension": ".py",
   "mimetype": "text/x-python",
   "name": "python",
   "nbconvert_exporter": "python",
   "pygments_lexer": "ipython3",
   "version": "3.12.1"
  }
 },
 "nbformat": 4,
 "nbformat_minor": 5
}

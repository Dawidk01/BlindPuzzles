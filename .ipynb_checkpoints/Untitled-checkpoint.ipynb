{
 "cells": [
  {
   "cell_type": "markdown",
   "id": "0ebcf7ec-5a26-4b1a-8de3-7f5d24dac2fd",
   "metadata": {},
   "source": []
  },
  {
   "cell_type": "code",
   "execution_count": 76,
   "id": "2d23bef5-68f8-4494-a3c3-7149250f75da",
   "metadata": {},
   "outputs": [],
   "source": [
    "zadania = [\n",
    "    {\"ranking\": 400, \"zadanie\": \"Zadanie 1 - Łatwe maty\"},\n",
    "    {\"ranking\": 450, \"zadanie\": \"Zadanie 2 - Prosty atak\"},\n",
    "    {\"ranking\": 500, \"zadanie\": \"Zadanie 3 - Obrona wieży\"},\n",
    "    {\"ranking\": 550, \"zadanie\": \"Zadanie 4 - Zaawansowane kombinacje\"},\n",
    "    {\"ranking\": 600, \"zadanie\": \"Zadanie 5 - Trudny mat\"},\n",
    "    {\"ranking\": 650, \"zadanie\": \"Zadanie 6 - Złożone końcówki\"},\n",
    "]\n"
   ]
  },
  {
   "cell_type": "code",
   "execution_count": 78,
   "id": "d88ab783-53b7-44e1-9e0d-5b9604a3f798",
   "metadata": {},
   "outputs": [
    {
     "name": "stdout",
     "output_type": "stream",
     "text": [
      "Wybrano zadanie: Zadanie 3 - Obrona wieży (ranking: 500)\n"
     ]
    }
   ],
   "source": [
    "def losuj_konkretne_zadanie(moj_ranking, zadania, odchylenie_standardowe=500, zakres_min=300, zakres_max=2700):\n",
    "    # Losujemy ranking\n",
    "    ranking = int(random.gauss(moj_ranking, odchylenie_standardowe))\n",
    "    ranking = max(min(ranking, zakres_max), zakres_min)\n",
    "    \n",
    "    # Filtrujemy zadania w zakresie ±50 od wylosowanego rankingu\n",
    "    dopasowane_zadania = [\n",
    "        zadanie for zadanie in zadania\n",
    "        if ranking - 250 <= zadanie[\"ranking\"] <= ranking + 250\n",
    "    ]\n",
    "    \n",
    "    # Jeśli są dopasowane zadania, losujemy jedno z nich\n",
    "    if dopasowane_zadania:\n",
    "        return random.choice(dopasowane_zadania)\n",
    "    else:\n",
    "        return None  # Brak zadań w zakresie\n",
    "\n",
    "# Przykład użycia\n",
    "moj_ranking = 500\n",
    "wylosowane_zadanie = losuj_konkretne_zadanie(moj_ranking, zadania)\n",
    "\n",
    "if wylosowane_zadanie:\n",
    "    print(f\"Wybrano zadanie: {wylosowane_zadanie['zadanie']} (ranking: {wylosowane_zadanie['ranking']})\")\n",
    "else:\n",
    "    print(\"Brak zadań w dopasowanym zakresie rankingu.\")\n"
   ]
  },
  {
   "cell_type": "code",
   "execution_count": null,
   "id": "49d1eba0-8076-4809-9b13-536617b4d599",
   "metadata": {},
   "outputs": [],
   "source": []
  },
  {
   "cell_type": "code",
   "execution_count": null,
   "id": "60713221-892b-4de2-9246-7cc78b24b291",
   "metadata": {},
   "outputs": [],
   "source": []
  },
  {
   "cell_type": "code",
   "execution_count": null,
   "id": "6f3f385a-acb3-4d21-97ca-079cbb12622b",
   "metadata": {},
   "outputs": [],
   "source": []
  },
  {
   "cell_type": "code",
   "execution_count": null,
   "id": "391424e4-dbef-4e2c-bda4-fac229c8926c",
   "metadata": {},
   "outputs": [],
   "source": []
  },
  {
   "cell_type": "code",
   "execution_count": null,
   "id": "7ac89547-90d9-456d-b254-9722fe447f65",
   "metadata": {},
   "outputs": [],
   "source": []
  },
  {
   "cell_type": "code",
   "execution_count": null,
   "id": "e50f53ac-c864-43e3-b9f5-773765dfb950",
   "metadata": {},
   "outputs": [],
   "source": []
  },
  {
   "cell_type": "code",
   "execution_count": null,
   "id": "11377c91-b399-4cee-bac3-82836ba621ff",
   "metadata": {},
   "outputs": [],
   "source": []
  },
  {
   "cell_type": "code",
   "execution_count": null,
   "id": "f78c5552-f507-44e6-9356-281a1bd46d0e",
   "metadata": {},
   "outputs": [],
   "source": []
  },
  {
   "cell_type": "code",
   "execution_count": null,
   "id": "01ce7163-a931-49fb-b845-32e87b96e398",
   "metadata": {},
   "outputs": [],
   "source": []
  },
  {
   "cell_type": "code",
   "execution_count": null,
   "id": "85c7f00e-a814-4dd7-8907-ef41e2da9c95",
   "metadata": {},
   "outputs": [],
   "source": []
  },
  {
   "cell_type": "code",
   "execution_count": null,
   "id": "2fafb3b6-76a6-4c7a-b1ae-2861013df3ab",
   "metadata": {},
   "outputs": [],
   "source": []
  },
  {
   "cell_type": "code",
   "execution_count": null,
   "id": "3e33c15d-1f49-4118-bf02-98c00b3d4558",
   "metadata": {},
   "outputs": [],
   "source": []
  },
  {
   "cell_type": "code",
   "execution_count": null,
   "id": "ff828e91-31af-4768-be8f-8726809ae2e3",
   "metadata": {},
   "outputs": [],
   "source": []
  },
  {
   "cell_type": "code",
   "execution_count": null,
   "id": "40e0db36-7214-4a9d-bc64-72196cd5fba1",
   "metadata": {},
   "outputs": [],
   "source": []
  },
  {
   "cell_type": "markdown",
   "id": "521f97c8-015b-42b7-95c3-25a7ee3658e0",
   "metadata": {},
   "source": [
    "Opuść nawias"
   ]
  },
  {
   "cell_type": "markdown",
   "id": "bb4a7c67-00d6-4de1-8bb0-c49b1b614015",
   "metadata": {},
   "source": [
    "1. 5(a+b+c+d)"
   ]
  },
  {
   "cell_type": "markdown",
   "id": "9fb37637-6941-4ea3-9466-cc29b599f470",
   "metadata": {},
   "source": [
    "2. -(a-b+c+d-e)"
   ]
  },
  {
   "cell_type": "markdown",
   "id": "7dce2b51-b96e-453f-bdf8-6c9a8872791b",
   "metadata": {},
   "source": [
    "3. a(x+y+z)"
   ]
  },
  {
   "cell_type": "markdown",
   "id": "3e56b58e-dd86-42ff-a57f-1015927bd456",
   "metadata": {},
   "source": [
    "4. z-(a+b-c)"
   ]
  },
  {
   "cell_type": "markdown",
   "id": "7541769e-bb18-46b8-9d55-ba58ef415233",
   "metadata": {},
   "source": [
    "5. (a+b)(c+d)"
   ]
  },
  {
   "cell_type": "markdown",
   "id": "f8ca7dd7-99f4-46e2-9dc3-ef3680b575f2",
   "metadata": {},
   "source": [
    "Jak wymnażamy nawiasy. Rysujemy strzałki od dwójki i potem rysujemy strzałki od trójki."
   ]
  },
  {
   "cell_type": "markdown",
   "id": "f6d872ce-92a6-4cc6-aa25-edb79b2903ab",
   "metadata": {},
   "source": [
    "(2+3)(5+6) = 2 razy 5 + 2 razy 6    +   3 razy 5  + 3 razy 6 "
   ]
  }
 ],
 "metadata": {
  "kernelspec": {
   "display_name": "Python 3 (ipykernel)",
   "language": "python",
   "name": "python3"
  },
  "language_info": {
   "codemirror_mode": {
    "name": "ipython",
    "version": 3
   },
   "file_extension": ".py",
   "mimetype": "text/x-python",
   "name": "python",
   "nbconvert_exporter": "python",
   "pygments_lexer": "ipython3",
   "version": "3.12.1"
  }
 },
 "nbformat": 4,
 "nbformat_minor": 5
}
